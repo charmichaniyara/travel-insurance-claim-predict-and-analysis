{
  "nbformat": 4,
  "nbformat_minor": 0,
  "metadata": {
    "kernelspec": {
      "display_name": "Python 3",
      "language": "python",
      "name": "python3"
    },
    "language_info": {
      "codemirror_mode": {
        "name": "ipython",
        "version": 3
      },
      "file_extension": ".py",
      "mimetype": "text/x-python",
      "name": "python",
      "nbconvert_exporter": "python",
      "pygments_lexer": "ipython3",
      "version": "3.8.3"
    },
    "colab": {
      "name": "Copy of 29 Oct_final.ipynb",
      "provenance": [],
      "collapsed_sections": []
    }
  },
  "cells": [
    {
      "cell_type": "markdown",
      "metadata": {
        "id": "Awcdr95thSJP"
      },
      "source": [
        "### Importing Libraries"
      ]
    },
    {
      "cell_type": "code",
      "metadata": {
        "id": "X_7MVGH1hSJV"
      },
      "source": [
        "import numpy as np\n",
        "import pandas as pd\n",
        "import matplotlib.pyplot as plt\n",
        "import seaborn as sns\n",
        "%matplotlib inline\n",
        "import warnings\n",
        "warnings.filterwarnings('ignore')\n",
        "\n",
        "from sklearn.preprocessing import LabelEncoder, OneHotEncoder\n",
        "from sklearn.linear_model import LogisticRegression\n",
        "from sklearn.tree import DecisionTreeClassifier\n",
        "from sklearn.ensemble import GradientBoostingClassifier ,RandomForestClassifier ,GradientBoostingClassifier\n",
        "#import xgboost\n",
        "#from xgboost import XGBClassifier\n",
        "from sklearn.model_selection import GridSearchCV, RandomizedSearchCV\n",
        "from sklearn.linear_model import Ridge,Lasso\n",
        "from sklearn.metrics import roc_auc_score ,mean_squared_error,accuracy_score,classification_report,roc_curve,confusion_matrix,precision_score, f1_score, recall_score\n",
        "import warnings\n",
        "warnings.filterwarnings('ignore')\n",
        "from scipy.stats.mstats import winsorize\n",
        "from sklearn.feature_selection import RFE\n",
        "from sklearn.model_selection import train_test_split\n",
        "from sklearn.preprocessing import StandardScaler\n",
        "from sklearn.decomposition import PCA \n",
        "from sklearn.model_selection import KFold\n",
        "from sklearn.preprocessing import MinMaxScaler\n",
        "from sklearn.svm import SVR\n",
        "from sklearn.metrics import confusion_matrix, accuracy_score, classification_report\n",
        "from sklearn.preprocessing import LabelEncoder\n",
        "from imblearn.over_sampling import SMOTE, RandomOverSampler\n",
        "from imblearn.under_sampling import RandomUnderSampler"
      ],
      "execution_count": 1,
      "outputs": []
    },
    {
      "cell_type": "code",
      "metadata": {
        "id": "GNHFLEWQh0ZC",
        "outputId": "9a5451ea-22e1-491c-9199-7d7b17aefcb9",
        "colab": {
          "resources": {
            "http://localhost:8080/nbextensions/google.colab/files.js": {
              "data": "Ly8gQ29weXJpZ2h0IDIwMTcgR29vZ2xlIExMQwovLwovLyBMaWNlbnNlZCB1bmRlciB0aGUgQXBhY2hlIExpY2Vuc2UsIFZlcnNpb24gMi4wICh0aGUgIkxpY2Vuc2UiKTsKLy8geW91IG1heSBub3QgdXNlIHRoaXMgZmlsZSBleGNlcHQgaW4gY29tcGxpYW5jZSB3aXRoIHRoZSBMaWNlbnNlLgovLyBZb3UgbWF5IG9idGFpbiBhIGNvcHkgb2YgdGhlIExpY2Vuc2UgYXQKLy8KLy8gICAgICBodHRwOi8vd3d3LmFwYWNoZS5vcmcvbGljZW5zZXMvTElDRU5TRS0yLjAKLy8KLy8gVW5sZXNzIHJlcXVpcmVkIGJ5IGFwcGxpY2FibGUgbGF3IG9yIGFncmVlZCB0byBpbiB3cml0aW5nLCBzb2Z0d2FyZQovLyBkaXN0cmlidXRlZCB1bmRlciB0aGUgTGljZW5zZSBpcyBkaXN0cmlidXRlZCBvbiBhbiAiQVMgSVMiIEJBU0lTLAovLyBXSVRIT1VUIFdBUlJBTlRJRVMgT1IgQ09ORElUSU9OUyBPRiBBTlkgS0lORCwgZWl0aGVyIGV4cHJlc3Mgb3IgaW1wbGllZC4KLy8gU2VlIHRoZSBMaWNlbnNlIGZvciB0aGUgc3BlY2lmaWMgbGFuZ3VhZ2UgZ292ZXJuaW5nIHBlcm1pc3Npb25zIGFuZAovLyBsaW1pdGF0aW9ucyB1bmRlciB0aGUgTGljZW5zZS4KCi8qKgogKiBAZmlsZW92ZXJ2aWV3IEhlbHBlcnMgZm9yIGdvb2dsZS5jb2xhYiBQeXRob24gbW9kdWxlLgogKi8KKGZ1bmN0aW9uKHNjb3BlKSB7CmZ1bmN0aW9uIHNwYW4odGV4dCwgc3R5bGVBdHRyaWJ1dGVzID0ge30pIHsKICBjb25zdCBlbGVtZW50ID0gZG9jdW1lbnQuY3JlYXRlRWxlbWVudCgnc3BhbicpOwogIGVsZW1lbnQudGV4dENvbnRlbnQgPSB0ZXh0OwogIGZvciAoY29uc3Qga2V5IG9mIE9iamVjdC5rZXlzKHN0eWxlQXR0cmlidXRlcykpIHsKICAgIGVsZW1lbnQuc3R5bGVba2V5XSA9IHN0eWxlQXR0cmlidXRlc1trZXldOwogIH0KICByZXR1cm4gZWxlbWVudDsKfQoKLy8gTWF4IG51bWJlciBvZiBieXRlcyB3aGljaCB3aWxsIGJlIHVwbG9hZGVkIGF0IGEgdGltZS4KY29uc3QgTUFYX1BBWUxPQURfU0laRSA9IDEwMCAqIDEwMjQ7CgpmdW5jdGlvbiBfdXBsb2FkRmlsZXMoaW5wdXRJZCwgb3V0cHV0SWQpIHsKICBjb25zdCBzdGVwcyA9IHVwbG9hZEZpbGVzU3RlcChpbnB1dElkLCBvdXRwdXRJZCk7CiAgY29uc3Qgb3V0cHV0RWxlbWVudCA9IGRvY3VtZW50LmdldEVsZW1lbnRCeUlkKG91dHB1dElkKTsKICAvLyBDYWNoZSBzdGVwcyBvbiB0aGUgb3V0cHV0RWxlbWVudCB0byBtYWtlIGl0IGF2YWlsYWJsZSBmb3IgdGhlIG5leHQgY2FsbAogIC8vIHRvIHVwbG9hZEZpbGVzQ29udGludWUgZnJvbSBQeXRob24uCiAgb3V0cHV0RWxlbWVudC5zdGVwcyA9IHN0ZXBzOwoKICByZXR1cm4gX3VwbG9hZEZpbGVzQ29udGludWUob3V0cHV0SWQpOwp9CgovLyBUaGlzIGlzIHJvdWdobHkgYW4gYXN5bmMgZ2VuZXJhdG9yIChub3Qgc3VwcG9ydGVkIGluIHRoZSBicm93c2VyIHlldCksCi8vIHdoZXJlIHRoZXJlIGFyZSBtdWx0aXBsZSBhc3luY2hyb25vdXMgc3RlcHMgYW5kIHRoZSBQeXRob24gc2lkZSBpcyBnb2luZwovLyB0byBwb2xsIGZvciBjb21wbGV0aW9uIG9mIGVhY2ggc3RlcC4KLy8gVGhpcyB1c2VzIGEgUHJvbWlzZSB0byBibG9jayB0aGUgcHl0aG9uIHNpZGUgb24gY29tcGxldGlvbiBvZiBlYWNoIHN0ZXAsCi8vIHRoZW4gcGFzc2VzIHRoZSByZXN1bHQgb2YgdGhlIHByZXZpb3VzIHN0ZXAgYXMgdGhlIGlucHV0IHRvIHRoZSBuZXh0IHN0ZXAuCmZ1bmN0aW9uIF91cGxvYWRGaWxlc0NvbnRpbnVlKG91dHB1dElkKSB7CiAgY29uc3Qgb3V0cHV0RWxlbWVudCA9IGRvY3VtZW50LmdldEVsZW1lbnRCeUlkKG91dHB1dElkKTsKICBjb25zdCBzdGVwcyA9IG91dHB1dEVsZW1lbnQuc3RlcHM7CgogIGNvbnN0IG5leHQgPSBzdGVwcy5uZXh0KG91dHB1dEVsZW1lbnQubGFzdFByb21pc2VWYWx1ZSk7CiAgcmV0dXJuIFByb21pc2UucmVzb2x2ZShuZXh0LnZhbHVlLnByb21pc2UpLnRoZW4oKHZhbHVlKSA9PiB7CiAgICAvLyBDYWNoZSB0aGUgbGFzdCBwcm9taXNlIHZhbHVlIHRvIG1ha2UgaXQgYXZhaWxhYmxlIHRvIHRoZSBuZXh0CiAgICAvLyBzdGVwIG9mIHRoZSBnZW5lcmF0b3IuCiAgICBvdXRwdXRFbGVtZW50Lmxhc3RQcm9taXNlVmFsdWUgPSB2YWx1ZTsKICAgIHJldHVybiBuZXh0LnZhbHVlLnJlc3BvbnNlOwogIH0pOwp9CgovKioKICogR2VuZXJhdG9yIGZ1bmN0aW9uIHdoaWNoIGlzIGNhbGxlZCBiZXR3ZWVuIGVhY2ggYXN5bmMgc3RlcCBvZiB0aGUgdXBsb2FkCiAqIHByb2Nlc3MuCiAqIEBwYXJhbSB7c3RyaW5nfSBpbnB1dElkIEVsZW1lbnQgSUQgb2YgdGhlIGlucHV0IGZpbGUgcGlja2VyIGVsZW1lbnQuCiAqIEBwYXJhbSB7c3RyaW5nfSBvdXRwdXRJZCBFbGVtZW50IElEIG9mIHRoZSBvdXRwdXQgZGlzcGxheS4KICogQHJldHVybiB7IUl0ZXJhYmxlPCFPYmplY3Q+fSBJdGVyYWJsZSBvZiBuZXh0IHN0ZXBzLgogKi8KZnVuY3Rpb24qIHVwbG9hZEZpbGVzU3RlcChpbnB1dElkLCBvdXRwdXRJZCkgewogIGNvbnN0IGlucHV0RWxlbWVudCA9IGRvY3VtZW50LmdldEVsZW1lbnRCeUlkKGlucHV0SWQpOwogIGlucHV0RWxlbWVudC5kaXNhYmxlZCA9IGZhbHNlOwoKICBjb25zdCBvdXRwdXRFbGVtZW50ID0gZG9jdW1lbnQuZ2V0RWxlbWVudEJ5SWQob3V0cHV0SWQpOwogIG91dHB1dEVsZW1lbnQuaW5uZXJIVE1MID0gJyc7CgogIGNvbnN0IHBpY2tlZFByb21pc2UgPSBuZXcgUHJvbWlzZSgocmVzb2x2ZSkgPT4gewogICAgaW5wdXRFbGVtZW50LmFkZEV2ZW50TGlzdGVuZXIoJ2NoYW5nZScsIChlKSA9PiB7CiAgICAgIHJlc29sdmUoZS50YXJnZXQuZmlsZXMpOwogICAgfSk7CiAgfSk7CgogIGNvbnN0IGNhbmNlbCA9IGRvY3VtZW50LmNyZWF0ZUVsZW1lbnQoJ2J1dHRvbicpOwogIGlucHV0RWxlbWVudC5wYXJlbnRFbGVtZW50LmFwcGVuZENoaWxkKGNhbmNlbCk7CiAgY2FuY2VsLnRleHRDb250ZW50ID0gJ0NhbmNlbCB1cGxvYWQnOwogIGNvbnN0IGNhbmNlbFByb21pc2UgPSBuZXcgUHJvbWlzZSgocmVzb2x2ZSkgPT4gewogICAgY2FuY2VsLm9uY2xpY2sgPSAoKSA9PiB7CiAgICAgIHJlc29sdmUobnVsbCk7CiAgICB9OwogIH0pOwoKICAvLyBXYWl0IGZvciB0aGUgdXNlciB0byBwaWNrIHRoZSBmaWxlcy4KICBjb25zdCBmaWxlcyA9IHlpZWxkIHsKICAgIHByb21pc2U6IFByb21pc2UucmFjZShbcGlja2VkUHJvbWlzZSwgY2FuY2VsUHJvbWlzZV0pLAogICAgcmVzcG9uc2U6IHsKICAgICAgYWN0aW9uOiAnc3RhcnRpbmcnLAogICAgfQogIH07CgogIGNhbmNlbC5yZW1vdmUoKTsKCiAgLy8gRGlzYWJsZSB0aGUgaW5wdXQgZWxlbWVudCBzaW5jZSBmdXJ0aGVyIHBpY2tzIGFyZSBub3QgYWxsb3dlZC4KICBpbnB1dEVsZW1lbnQuZGlzYWJsZWQgPSB0cnVlOwoKICBpZiAoIWZpbGVzKSB7CiAgICByZXR1cm4gewogICAgICByZXNwb25zZTogewogICAgICAgIGFjdGlvbjogJ2NvbXBsZXRlJywKICAgICAgfQogICAgfTsKICB9CgogIGZvciAoY29uc3QgZmlsZSBvZiBmaWxlcykgewogICAgY29uc3QgbGkgPSBkb2N1bWVudC5jcmVhdGVFbGVtZW50KCdsaScpOwogICAgbGkuYXBwZW5kKHNwYW4oZmlsZS5uYW1lLCB7Zm9udFdlaWdodDogJ2JvbGQnfSkpOwogICAgbGkuYXBwZW5kKHNwYW4oCiAgICAgICAgYCgke2ZpbGUudHlwZSB8fCAnbi9hJ30pIC0gJHtmaWxlLnNpemV9IGJ5dGVzLCBgICsKICAgICAgICBgbGFzdCBtb2RpZmllZDogJHsKICAgICAgICAgICAgZmlsZS5sYXN0TW9kaWZpZWREYXRlID8gZmlsZS5sYXN0TW9kaWZpZWREYXRlLnRvTG9jYWxlRGF0ZVN0cmluZygpIDoKICAgICAgICAgICAgICAgICAgICAgICAgICAgICAgICAgICAgJ24vYSd9IC0gYCkpOwogICAgY29uc3QgcGVyY2VudCA9IHNwYW4oJzAlIGRvbmUnKTsKICAgIGxpLmFwcGVuZENoaWxkKHBlcmNlbnQpOwoKICAgIG91dHB1dEVsZW1lbnQuYXBwZW5kQ2hpbGQobGkpOwoKICAgIGNvbnN0IGZpbGVEYXRhUHJvbWlzZSA9IG5ldyBQcm9taXNlKChyZXNvbHZlKSA9PiB7CiAgICAgIGNvbnN0IHJlYWRlciA9IG5ldyBGaWxlUmVhZGVyKCk7CiAgICAgIHJlYWRlci5vbmxvYWQgPSAoZSkgPT4gewogICAgICAgIHJlc29sdmUoZS50YXJnZXQucmVzdWx0KTsKICAgICAgfTsKICAgICAgcmVhZGVyLnJlYWRBc0FycmF5QnVmZmVyKGZpbGUpOwogICAgfSk7CiAgICAvLyBXYWl0IGZvciB0aGUgZGF0YSB0byBiZSByZWFkeS4KICAgIGxldCBmaWxlRGF0YSA9IHlpZWxkIHsKICAgICAgcHJvbWlzZTogZmlsZURhdGFQcm9taXNlLAogICAgICByZXNwb25zZTogewogICAgICAgIGFjdGlvbjogJ2NvbnRpbnVlJywKICAgICAgfQogICAgfTsKCiAgICAvLyBVc2UgYSBjaHVua2VkIHNlbmRpbmcgdG8gYXZvaWQgbWVzc2FnZSBzaXplIGxpbWl0cy4gU2VlIGIvNjIxMTU2NjAuCiAgICBsZXQgcG9zaXRpb24gPSAwOwogICAgd2hpbGUgKHBvc2l0aW9uIDwgZmlsZURhdGEuYnl0ZUxlbmd0aCkgewogICAgICBjb25zdCBsZW5ndGggPSBNYXRoLm1pbihmaWxlRGF0YS5ieXRlTGVuZ3RoIC0gcG9zaXRpb24sIE1BWF9QQVlMT0FEX1NJWkUpOwogICAgICBjb25zdCBjaHVuayA9IG5ldyBVaW50OEFycmF5KGZpbGVEYXRhLCBwb3NpdGlvbiwgbGVuZ3RoKTsKICAgICAgcG9zaXRpb24gKz0gbGVuZ3RoOwoKICAgICAgY29uc3QgYmFzZTY0ID0gYnRvYShTdHJpbmcuZnJvbUNoYXJDb2RlLmFwcGx5KG51bGwsIGNodW5rKSk7CiAgICAgIHlpZWxkIHsKICAgICAgICByZXNwb25zZTogewogICAgICAgICAgYWN0aW9uOiAnYXBwZW5kJywKICAgICAgICAgIGZpbGU6IGZpbGUubmFtZSwKICAgICAgICAgIGRhdGE6IGJhc2U2NCwKICAgICAgICB9LAogICAgICB9OwogICAgICBwZXJjZW50LnRleHRDb250ZW50ID0KICAgICAgICAgIGAke01hdGgucm91bmQoKHBvc2l0aW9uIC8gZmlsZURhdGEuYnl0ZUxlbmd0aCkgKiAxMDApfSUgZG9uZWA7CiAgICB9CiAgfQoKICAvLyBBbGwgZG9uZS4KICB5aWVsZCB7CiAgICByZXNwb25zZTogewogICAgICBhY3Rpb246ICdjb21wbGV0ZScsCiAgICB9CiAgfTsKfQoKc2NvcGUuZ29vZ2xlID0gc2NvcGUuZ29vZ2xlIHx8IHt9OwpzY29wZS5nb29nbGUuY29sYWIgPSBzY29wZS5nb29nbGUuY29sYWIgfHwge307CnNjb3BlLmdvb2dsZS5jb2xhYi5fZmlsZXMgPSB7CiAgX3VwbG9hZEZpbGVzLAogIF91cGxvYWRGaWxlc0NvbnRpbnVlLAp9Owp9KShzZWxmKTsK",
              "ok": true,
              "headers": [
                [
                  "content-type",
                  "application/javascript"
                ]
              ],
              "status": 200,
              "status_text": ""
            }
          },
          "base_uri": "https://localhost:8080/",
          "height": 106
        }
      },
      "source": [
        "# load data set\n",
        "from google.colab import  files\n",
        "uploaded = files.upload()"
      ],
      "execution_count": 2,
      "outputs": [
        {
          "output_type": "display_data",
          "data": {
            "text/html": [
              "\n",
              "     <input type=\"file\" id=\"files-1c9cc6bc-f884-4059-b5bd-a5e3239b7ba4\" name=\"files[]\" multiple disabled\n",
              "        style=\"border:none\" />\n",
              "     <output id=\"result-1c9cc6bc-f884-4059-b5bd-a5e3239b7ba4\">\n",
              "      Upload widget is only available when the cell has been executed in the\n",
              "      current browser session. Please rerun this cell to enable.\n",
              "      </output>\n",
              "      <script src=\"/nbextensions/google.colab/files.js\"></script> "
            ],
            "text/plain": [
              "<IPython.core.display.HTML object>"
            ]
          },
          "metadata": {
            "tags": []
          }
        },
        {
          "output_type": "stream",
          "text": [
            "Saving test.csv to test.csv\n",
            "Saving train.csv to train.csv\n"
          ],
          "name": "stdout"
        }
      ]
    },
    {
      "cell_type": "markdown",
      "metadata": {
        "id": "BXHA1SwqhSJs"
      },
      "source": [
        "### Load and Prepare dataset\n",
        "#### Load the dataframe using pandas.\n",
        "#### Seperate the features and target."
      ]
    },
    {
      "cell_type": "code",
      "metadata": {
        "id": "Y1eS8HQ4hSJy",
        "outputId": "a87e7771-cbfc-4854-8218-859839df366f",
        "colab": {
          "base_uri": "https://localhost:8080/",
          "height": 204
        }
      },
      "source": [
        "# Load the dataframe\n",
        "insure_df=pd.read_csv('train.csv')\n",
        "\n",
        "# Seperate the features and target\n",
        "target = insure_df['Claim']\n",
        "predictors = insure_df.drop(['Claim'],axis=1)\n",
        "df_test=pd.read_csv('test.csv')\n",
        "predictors.head()"
      ],
      "execution_count": 3,
      "outputs": [
        {
          "output_type": "execute_result",
          "data": {
            "text/html": [
              "<div>\n",
              "<style scoped>\n",
              "    .dataframe tbody tr th:only-of-type {\n",
              "        vertical-align: middle;\n",
              "    }\n",
              "\n",
              "    .dataframe tbody tr th {\n",
              "        vertical-align: top;\n",
              "    }\n",
              "\n",
              "    .dataframe thead th {\n",
              "        text-align: right;\n",
              "    }\n",
              "</style>\n",
              "<table border=\"1\" class=\"dataframe\">\n",
              "  <thead>\n",
              "    <tr style=\"text-align: right;\">\n",
              "      <th></th>\n",
              "      <th>ID</th>\n",
              "      <th>Agency</th>\n",
              "      <th>Agency Type</th>\n",
              "      <th>Distribution Channel</th>\n",
              "      <th>Product Name</th>\n",
              "      <th>Duration</th>\n",
              "      <th>Destination</th>\n",
              "      <th>Net Sales</th>\n",
              "      <th>Commision (in value)</th>\n",
              "      <th>Age</th>\n",
              "    </tr>\n",
              "  </thead>\n",
              "  <tbody>\n",
              "    <tr>\n",
              "      <th>0</th>\n",
              "      <td>2010</td>\n",
              "      <td>EPX</td>\n",
              "      <td>Travel Agency</td>\n",
              "      <td>Online</td>\n",
              "      <td>Cancellation Plan</td>\n",
              "      <td>61</td>\n",
              "      <td>PHILIPPINES</td>\n",
              "      <td>12.0</td>\n",
              "      <td>0.00</td>\n",
              "      <td>41</td>\n",
              "    </tr>\n",
              "    <tr>\n",
              "      <th>1</th>\n",
              "      <td>4245</td>\n",
              "      <td>EPX</td>\n",
              "      <td>Travel Agency</td>\n",
              "      <td>Online</td>\n",
              "      <td>Cancellation Plan</td>\n",
              "      <td>4</td>\n",
              "      <td>MALAYSIA</td>\n",
              "      <td>17.0</td>\n",
              "      <td>0.00</td>\n",
              "      <td>35</td>\n",
              "    </tr>\n",
              "    <tr>\n",
              "      <th>2</th>\n",
              "      <td>9251</td>\n",
              "      <td>CWT</td>\n",
              "      <td>Travel Agency</td>\n",
              "      <td>Online</td>\n",
              "      <td>Rental Vehicle Excess Insurance</td>\n",
              "      <td>26</td>\n",
              "      <td>THAILAND</td>\n",
              "      <td>19.8</td>\n",
              "      <td>11.88</td>\n",
              "      <td>47</td>\n",
              "    </tr>\n",
              "    <tr>\n",
              "      <th>3</th>\n",
              "      <td>4754</td>\n",
              "      <td>EPX</td>\n",
              "      <td>Travel Agency</td>\n",
              "      <td>Online</td>\n",
              "      <td>2 way Comprehensive Plan</td>\n",
              "      <td>15</td>\n",
              "      <td>HONG KONG</td>\n",
              "      <td>27.0</td>\n",
              "      <td>0.00</td>\n",
              "      <td>48</td>\n",
              "    </tr>\n",
              "    <tr>\n",
              "      <th>4</th>\n",
              "      <td>8840</td>\n",
              "      <td>EPX</td>\n",
              "      <td>Travel Agency</td>\n",
              "      <td>Online</td>\n",
              "      <td>2 way Comprehensive Plan</td>\n",
              "      <td>15</td>\n",
              "      <td>MALAYSIA</td>\n",
              "      <td>37.0</td>\n",
              "      <td>0.00</td>\n",
              "      <td>36</td>\n",
              "    </tr>\n",
              "  </tbody>\n",
              "</table>\n",
              "</div>"
            ],
            "text/plain": [
              "     ID Agency    Agency Type  ... Net Sales Commision (in value)  Age\n",
              "0  2010    EPX  Travel Agency  ...      12.0                 0.00   41\n",
              "1  4245    EPX  Travel Agency  ...      17.0                 0.00   35\n",
              "2  9251    CWT  Travel Agency  ...      19.8                11.88   47\n",
              "3  4754    EPX  Travel Agency  ...      27.0                 0.00   48\n",
              "4  8840    EPX  Travel Agency  ...      37.0                 0.00   36\n",
              "\n",
              "[5 rows x 10 columns]"
            ]
          },
          "metadata": {
            "tags": []
          },
          "execution_count": 3
        }
      ]
    },
    {
      "cell_type": "markdown",
      "metadata": {
        "id": "KwA7fjVHhSKK"
      },
      "source": [
        "### Check Numeric and Categorical Features\n",
        "#### The given dataset contains both continuous and categorical features.\n",
        "#### Wrote two functions - one which return column names of only the continuous variables and the other which return all the categorical features in the dataset."
      ]
    },
    {
      "cell_type": "code",
      "metadata": {
        "id": "LAWTIJi9hSKN",
        "outputId": "2929c8ce-2637-467f-8bdd-da16d18fd213",
        "colab": {
          "base_uri": "https://localhost:8080/"
        }
      },
      "source": [
        "# Function to identify numeric features\n",
        "def numeric_features(dataset):\n",
        "    numeric_col = dataset.select_dtypes(include=['number']).columns\n",
        "    return numeric_col\n",
        "\n",
        "numeric_columns = numeric_features(predictors)\n",
        "print(\"Numeric Features:\")\n",
        "print(numeric_columns)\n",
        "print(\"====\"*20)\n",
        "\n",
        "# Function to identify categorical features\n",
        "def categorical_features(dataset):\n",
        "    categorical_col = dataset.select_dtypes(exclude=['number']).columns\n",
        "    return categorical_col\n",
        "\n",
        "categorical_columns = categorical_features(predictors)\n",
        "print(\"Categorical Features:\")\n",
        "print(categorical_columns)"
      ],
      "execution_count": 4,
      "outputs": [
        {
          "output_type": "stream",
          "text": [
            "Numeric Features:\n",
            "Index(['ID', 'Duration', 'Net Sales', 'Commision (in value)', 'Age'], dtype='object')\n",
            "================================================================================\n",
            "Categorical Features:\n",
            "Index(['Agency', 'Agency Type', 'Distribution Channel', 'Product Name',\n",
            "       'Destination'],\n",
            "      dtype='object')\n"
          ],
          "name": "stdout"
        }
      ]
    },
    {
      "cell_type": "markdown",
      "metadata": {
        "id": "c2GWYxZ-hSKf"
      },
      "source": [
        "### Check Missing Data\n",
        "#### Wrote a function that calculates the total missing values and the percentage of missing values in every feature of the dataset\n",
        "#### The above function returns a dataframe consisting of the feature names as index and two columns having the count and percentage of missing values in that feature."
      ]
    },
    {
      "cell_type": "code",
      "metadata": {
        "id": "PjqM3LiRhSKj",
        "outputId": "3d1691c6-9866-4dbe-f7a7-eb048f1d8283",
        "colab": {
          "base_uri": "https://localhost:8080/"
        }
      },
      "source": [
        "# Function to identify the number of missing values in every feature of Train dataset\n",
        "def missing_datas(dataset):\n",
        "    total = dataset.isnull().sum().sort_values(ascending=False)\n",
        "    percent = (dataset.isnull().sum()/dataset.isnull().count()).sort_values(ascending=False)\n",
        "    missing_data = pd.concat([total, percent], axis=1, keys=['Total', 'Percent'])\n",
        "    return missing_data\n",
        "    \n",
        "missing_data = missing_datas(predictors)\n",
        "print(missing_data)"
      ],
      "execution_count": 5,
      "outputs": [
        {
          "output_type": "stream",
          "text": [
            "                      Total  Percent\n",
            "Age                       0      0.0\n",
            "Commision (in value)      0      0.0\n",
            "Net Sales                 0      0.0\n",
            "Destination               0      0.0\n",
            "Duration                  0      0.0\n",
            "Product Name              0      0.0\n",
            "Distribution Channel      0      0.0\n",
            "Agency Type               0      0.0\n",
            "Agency                    0      0.0\n",
            "ID                        0      0.0\n"
          ],
          "name": "stdout"
        }
      ]
    },
    {
      "cell_type": "code",
      "metadata": {
        "id": "Hxo5Gf5BhSK1",
        "outputId": "229de908-0080-4dbb-d920-1463fe9a5c23",
        "colab": {
          "base_uri": "https://localhost:8080/"
        }
      },
      "source": [
        "# Function to identify the number of missing values in every feature of Test dataset\n",
        "missing_data = missing_datas(df_test)\n",
        "print(missing_data)"
      ],
      "execution_count": 6,
      "outputs": [
        {
          "output_type": "stream",
          "text": [
            "                      Total  Percent\n",
            "Age                       0      0.0\n",
            "Commision (in value)      0      0.0\n",
            "Net Sales                 0      0.0\n",
            "Destination               0      0.0\n",
            "Duration                  0      0.0\n",
            "Product Name              0      0.0\n",
            "Distribution Channel      0      0.0\n",
            "Agency Type               0      0.0\n",
            "Agency                    0      0.0\n",
            "ID                        0      0.0\n"
          ],
          "name": "stdout"
        }
      ]
    },
    {
      "cell_type": "markdown",
      "metadata": {
        "id": "kQN6BpUuhSLw"
      },
      "source": [
        "### Dropping / Imputing Missing Values\n",
        "#### Dropping ID column"
      ]
    },
    {
      "cell_type": "code",
      "metadata": {
        "id": "-99eXTErhSL2"
      },
      "source": [
        "predictors.drop('ID', axis=1, inplace= True)\n",
        "#df_test.drop('ID', axis=1, inplace= True)"
      ],
      "execution_count": 7,
      "outputs": []
    },
    {
      "cell_type": "code",
      "metadata": {
        "id": "9jRN_cxohSMO",
        "outputId": "16cdd997-831c-4ff6-c620-543f8d2acb7c",
        "colab": {
          "base_uri": "https://localhost:8080/",
          "height": 204
        }
      },
      "source": [
        "predictors.head()"
      ],
      "execution_count": 8,
      "outputs": [
        {
          "output_type": "execute_result",
          "data": {
            "text/html": [
              "<div>\n",
              "<style scoped>\n",
              "    .dataframe tbody tr th:only-of-type {\n",
              "        vertical-align: middle;\n",
              "    }\n",
              "\n",
              "    .dataframe tbody tr th {\n",
              "        vertical-align: top;\n",
              "    }\n",
              "\n",
              "    .dataframe thead th {\n",
              "        text-align: right;\n",
              "    }\n",
              "</style>\n",
              "<table border=\"1\" class=\"dataframe\">\n",
              "  <thead>\n",
              "    <tr style=\"text-align: right;\">\n",
              "      <th></th>\n",
              "      <th>Agency</th>\n",
              "      <th>Agency Type</th>\n",
              "      <th>Distribution Channel</th>\n",
              "      <th>Product Name</th>\n",
              "      <th>Duration</th>\n",
              "      <th>Destination</th>\n",
              "      <th>Net Sales</th>\n",
              "      <th>Commision (in value)</th>\n",
              "      <th>Age</th>\n",
              "    </tr>\n",
              "  </thead>\n",
              "  <tbody>\n",
              "    <tr>\n",
              "      <th>0</th>\n",
              "      <td>EPX</td>\n",
              "      <td>Travel Agency</td>\n",
              "      <td>Online</td>\n",
              "      <td>Cancellation Plan</td>\n",
              "      <td>61</td>\n",
              "      <td>PHILIPPINES</td>\n",
              "      <td>12.0</td>\n",
              "      <td>0.00</td>\n",
              "      <td>41</td>\n",
              "    </tr>\n",
              "    <tr>\n",
              "      <th>1</th>\n",
              "      <td>EPX</td>\n",
              "      <td>Travel Agency</td>\n",
              "      <td>Online</td>\n",
              "      <td>Cancellation Plan</td>\n",
              "      <td>4</td>\n",
              "      <td>MALAYSIA</td>\n",
              "      <td>17.0</td>\n",
              "      <td>0.00</td>\n",
              "      <td>35</td>\n",
              "    </tr>\n",
              "    <tr>\n",
              "      <th>2</th>\n",
              "      <td>CWT</td>\n",
              "      <td>Travel Agency</td>\n",
              "      <td>Online</td>\n",
              "      <td>Rental Vehicle Excess Insurance</td>\n",
              "      <td>26</td>\n",
              "      <td>THAILAND</td>\n",
              "      <td>19.8</td>\n",
              "      <td>11.88</td>\n",
              "      <td>47</td>\n",
              "    </tr>\n",
              "    <tr>\n",
              "      <th>3</th>\n",
              "      <td>EPX</td>\n",
              "      <td>Travel Agency</td>\n",
              "      <td>Online</td>\n",
              "      <td>2 way Comprehensive Plan</td>\n",
              "      <td>15</td>\n",
              "      <td>HONG KONG</td>\n",
              "      <td>27.0</td>\n",
              "      <td>0.00</td>\n",
              "      <td>48</td>\n",
              "    </tr>\n",
              "    <tr>\n",
              "      <th>4</th>\n",
              "      <td>EPX</td>\n",
              "      <td>Travel Agency</td>\n",
              "      <td>Online</td>\n",
              "      <td>2 way Comprehensive Plan</td>\n",
              "      <td>15</td>\n",
              "      <td>MALAYSIA</td>\n",
              "      <td>37.0</td>\n",
              "      <td>0.00</td>\n",
              "      <td>36</td>\n",
              "    </tr>\n",
              "  </tbody>\n",
              "</table>\n",
              "</div>"
            ],
            "text/plain": [
              "  Agency    Agency Type  ... Commision (in value) Age\n",
              "0    EPX  Travel Agency  ...                 0.00  41\n",
              "1    EPX  Travel Agency  ...                 0.00  35\n",
              "2    CWT  Travel Agency  ...                11.88  47\n",
              "3    EPX  Travel Agency  ...                 0.00  48\n",
              "4    EPX  Travel Agency  ...                 0.00  36\n",
              "\n",
              "[5 rows x 9 columns]"
            ]
          },
          "metadata": {
            "tags": []
          },
          "execution_count": 8
        }
      ]
    },
    {
      "cell_type": "markdown",
      "metadata": {
        "id": "JZETVsUzhSMz"
      },
      "source": [
        "### Check for Class Imbalance\n",
        "#### Check the class distribution of all the classes in the target. If an imbalance exists, we will deal with it by applying SMOTE in the later stages."
      ]
    },
    {
      "cell_type": "code",
      "metadata": {
        "id": "LM2IcUxuhSM6",
        "outputId": "7f8ff43c-ad4d-42b1-dc81-b57fb051d4c7",
        "colab": {
          "base_uri": "https://localhost:8080/"
        }
      },
      "source": [
        "def class_imbalance(target):\n",
        "    class_values = (target.value_counts()/target.value_counts().sum())*100\n",
        "    return class_values\n",
        "\n",
        "class_imbalance(target)"
      ],
      "execution_count": 9,
      "outputs": [
        {
          "output_type": "execute_result",
          "data": {
            "text/plain": [
              "0    83.330147\n",
              "1    16.669853\n",
              "Name: Claim, dtype: float64"
            ]
          },
          "metadata": {
            "tags": []
          },
          "execution_count": 9
        }
      ]
    },
    {
      "cell_type": "markdown",
      "metadata": {
        "id": "63dsJOz5hSNR"
      },
      "source": [
        "#### The distribution 83:16 is a clear indication of imbalance in the classes."
      ]
    },
    {
      "cell_type": "markdown",
      "metadata": {
        "id": "b-7JyqimhSNV"
      },
      "source": [
        "### Univariate analysis of Categorical columns\n",
        "#### Wrote a function that plots the frequency of the values of all the categorical variables"
      ]
    },
    {
      "cell_type": "code",
      "metadata": {
        "id": "v7fcdNSMhSNY",
        "outputId": "072ac413-5ba8-4366-d903-347e2f11dfac",
        "colab": {
          "base_uri": "https://localhost:8080/",
          "height": 1000
        }
      },
      "source": [
        "# Function to perform univariate analysis of categorical columns\n",
        "def plot_categorical_columns(dataframe):\n",
        "    categorical_columns = categorical_features(dataframe)\n",
        "    dataframe = dataframe[categorical_columns]\n",
        "    for i in dataframe:\n",
        "        plt.title(i)\n",
        "        dataframe[i].value_counts(normalize=True).plot(kind='bar')\n",
        "        plt.show()\n",
        "\n",
        "plot = plot_categorical_columns(predictors)"
      ],
      "execution_count": 10,
      "outputs": [
        {
          "output_type": "display_data",
          "data": {
            "image/png": "[encoded data removed]",
            "text/plain": [
              "<Figure size 432x288 with 1 Axes>"
            ]
          },
          "metadata": {
            "tags": [],
            "needs_background": "light"
          }
        },
        {
          "output_type": "display_data",
          "data": {
            "image/png": "[encoded data removed]",
            "text/plain": [
              "<Figure size 432x288 with 1 Axes>"
            ]
          },
          "metadata": {
            "tags": [],
            "needs_background": "light"
          }
        },
        {
          "output_type": "display_data",
          "data": {
            "image/png": "[encoded data removed]",
            "text/plain": [
              "<Figure size 432x288 with 1 Axes>"
            ]
          },
          "metadata": {
            "tags": [],
            "needs_background": "light"
          }
        },
        {
          "output_type": "display_data",
          "data": {
            "image/png": "[encoded data removed]",
            "text/plain": [
              "<Figure size 432x288 with 1 Axes>"
            ]
          },
          "metadata": {
            "tags": [],
            "needs_background": "light"
          }
        },
        {
          "output_type": "display_data",
          "data": {
            "image/png": "[encoded data removed]",
            "text/plain": [
              "<Figure size 432x288 with 1 Axes>"
            ]
          },
          "metadata": {
            "tags": [],
            "needs_background": "light"
          }
        }
      ]
    },
    {
      "cell_type": "markdown",
      "metadata": {
        "id": "W8ADbeiFhSNu"
      },
      "source": [
        "### Agency\n",
        "#### Insight : More people are taking claim from \"EPX\"\n",
        "\n",
        "### Agency Type \n",
        "#### Insight : People are more interested in Travel Agency.\n",
        "\n",
        "### Distribution Channel\n",
        "#### Insight : Most famous Distribution Channel is \"Online\".\n",
        "\n",
        "### Product Name\n",
        "#### Insight : People are more interested in \"Cancellation Plan\"\n",
        "#### Recommendation : In order to target more customers, try to provide good packages for other products apart from \"Cancellation Plan\"\n",
        "\n",
        "### Destination\n",
        "#### Insight : People are more interested in \"Singapore\"(more popular destinations are asian countries)\n",
        "#### Recommendation : more popular destinations are asian countries. Provide better packages for these countries."
      ]
    },
    {
      "cell_type": "markdown",
      "metadata": {
        "id": "GjE6RyuhhSNx"
      },
      "source": [
        "### Univariate analysis of Continuous columns\n",
        "#### Construct two functions, one that plots a histogram of all the continuous features and other that plots a boxplot of the same. Histograms are great for plotting the distribution of the data and boxplots are the best choice for visualizing outliers."
      ]
    },
    {
      "cell_type": "code",
      "metadata": {
        "id": "g5R41fl5hSN1",
        "outputId": "44e4300d-5d3a-45cc-e73f-843d8584b597",
        "colab": {
          "base_uri": "https://localhost:8080/",
          "height": 1000
        }
      },
      "source": [
        "# Function to plot histograms of Continuous columns\n",
        "def plot_continuous_columns(dataframe):\n",
        "    numeric_columns = numeric_features(dataframe)\n",
        "    dataframe = dataframe[numeric_columns]\n",
        "    \n",
        "    for i in range(0,len(numeric_columns),2):\n",
        "        if len(numeric_columns) > i+1:\n",
        "            plt.figure(figsize=(10,4))\n",
        "            plt.subplot(121)\n",
        "            sns.distplot(dataframe[numeric_columns[i]], kde=False)\n",
        "            plt.subplot(122)            \n",
        "            sns.distplot(dataframe[numeric_columns[i+1]], kde=False)\n",
        "            plt.tight_layout()\n",
        "            plt.show()\n",
        "\n",
        "        else:\n",
        "            sns.distplot(dataframe[numeric_columns[i]], kde=False)\n",
        "\n",
        "# Function to plot boxplots of Continuous columns\n",
        "def plot_box_plots(dataframe):\n",
        "    numeric_columns = numeric_features(dataframe)\n",
        "    dataframe = dataframe[numeric_columns]\n",
        "    \n",
        "    for i in range(0,len(numeric_columns),2):\n",
        "        if len(numeric_columns) > i+1:\n",
        "            plt.figure(figsize=(10,4))\n",
        "            plt.subplot(121)\n",
        "            sns.boxplot(dataframe[numeric_columns[i]])\n",
        "            plt.subplot(122)            \n",
        "            sns.boxplot(dataframe[numeric_columns[i+1]])\n",
        "            plt.tight_layout()\n",
        "            plt.show()\n",
        "\n",
        "        else:\n",
        "            sns.boxplot(dataframe[numeric_columns[i]])\n",
        "\n",
        "plot_continuous_columns(predictors)            \n",
        "plot_box_plots(predictors)"
      ],
      "execution_count": 11,
      "outputs": [
        {
          "output_type": "display_data",
          "data": {
            "image/png": "[encoded data removed]",
            "text/plain": [
              "<Figure size 720x288 with 2 Axes>"
            ]
          },
          "metadata": {
            "tags": [],
            "needs_background": "light"
          }
        },
        {
          "output_type": "display_data",
          "data": {
            "image/png": "[encoded data removed]",
            "text/plain": [
              "<Figure size 720x288 with 2 Axes>"
            ]
          },
          "metadata": {
            "tags": [],
            "needs_background": "light"
          }
        },
        {
          "output_type": "display_data",
          "data": {
            "image/png": "[encoded data removed]",
            "text/plain": [
              "<Figure size 720x288 with 2 Axes>"
            ]
          },
          "metadata": {
            "tags": [],
            "needs_background": "light"
          }
        },
        {
          "output_type": "display_data",
          "data": {
            "image/png": "[encoded data removed]",
            "text/plain": [
              "<Figure size 720x288 with 2 Axes>"
            ]
          },
          "metadata": {
            "tags": [],
            "needs_background": "light"
          }
        }
      ]
    },
    {
      "cell_type": "markdown",
      "metadata": {
        "id": "MNJQm_rbhSOH"
      },
      "source": [
        "## distplot\n",
        "\n",
        "### Duration\n",
        "#### Insight : Duration cannot be negative. So negative records needs to be managed.(need to check unit of measure for duration)\n",
        "\n",
        "### Age \n",
        "#### Insight : Maximum age group of travellers is 30 to 45.(There are some records of age 118 years. Need to impute these values in order to handle outliers)\n",
        "#### Recommendation : Our majority of customers are within age group of 30-45 and we need to focus on the customers within this age group.\n",
        "\n",
        "### Commision\n",
        "#### Insight :\n",
        "\n",
        "### Net Sales\n",
        "#### Insight :\n",
        "\n",
        "## Boxplot\n",
        "\n",
        "### Duration\n",
        "#### Insight : Insight: Duration cannot be negative. So negative records needs to be managed.(need to check unit of measure for duration)\n",
        "\n",
        "### Age \n",
        "#### Insight : Maximum age group of travellers is 30 to 45.(There are some records of age 118 years. Need to impute these values in order to handle outliers)\n",
        "#### Recommendation : Our majority of customers are within age group of 30-45 and we need to focus on the customers within this age group.\n",
        "\n",
        "### Commision\n",
        "#### Nothing to do with Commision\n",
        "\n",
        "### Net Sales\n",
        "#### Assumpation : Negative values will be loss to company and positive values will be treated as profit to company."
      ]
    },
    {
      "cell_type": "markdown",
      "metadata": {
        "id": "7ygEA-WbhSOJ"
      },
      "source": [
        "### Bivariate Analysis - Categorical Columns"
      ]
    },
    {
      "cell_type": "code",
      "metadata": {
        "id": "qR9_5x0uhSOP",
        "outputId": "828bb4fb-8e49-41cc-ab3c-5a10e56e65a8",
        "colab": {
          "base_uri": "https://localhost:8080/",
          "height": 1000
        }
      },
      "source": [
        "def bivariate_analysis_categorical(dataframe,target):\n",
        "    cols = list(dataframe)\n",
        "    for col in cols:\n",
        "        if col in dataframe.select_dtypes(exclude=np.number).columns:\n",
        "            sns.countplot(x=dataframe[col],hue=target,data=dataframe)\n",
        "            plt.xticks(rotation='vertical')\n",
        "            plt.show()\n",
        "\n",
        "bivariate_analysis_categorical(predictors,target)"
      ],
      "execution_count": 12,
      "outputs": [
        {
          "output_type": "display_data",
          "data": {
            "image/png": "[encoded data removed]",
            "text/plain": [
              "<Figure size 432x288 with 1 Axes>"
            ]
          },
          "metadata": {
            "tags": [],
            "needs_background": "light"
          }
        },
        {
          "output_type": "display_data",
          "data": {
            "image/png": "[encoded data removed]",
            "text/plain": [
              "<Figure size 432x288 with 1 Axes>"
            ]
          },
          "metadata": {
            "tags": [],
            "needs_background": "light"
          }
        },
        {
          "output_type": "display_data",
          "data": {
            "image/png": "[encoded data removed]",
            "text/plain": [
              "<Figure size 432x288 with 1 Axes>"
            ]
          },
          "metadata": {
            "tags": [],
            "needs_background": "light"
          }
        },
        {
          "output_type": "display_data",
          "data": {
            "image/png": "[encoded data removed]",
            "text/plain": [
              "<Figure size 432x288 with 1 Axes>"
            ]
          },
          "metadata": {
            "tags": [],
            "needs_background": "light"
          }
        },
        {
          "output_type": "display_data",
          "data": {
            "image/png": "[encoded data removed]",
            "text/plain": [
              "<Figure size 432x288 with 1 Axes>"
            ]
          },
          "metadata": {
            "tags": [],
            "needs_background": "light"
          }
        }
      ]
    },
    {
      "cell_type": "markdown",
      "metadata": {
        "id": "NpdDLPGChSOj"
      },
      "source": [
        "### Detect outliers in the continuous columns\n",
        "- Wrote a function that will output the number of outliers in every numeric feature based on 1.5*IQR method"
      ]
    },
    {
      "cell_type": "code",
      "metadata": {
        "id": "Bi1Dur1vhSOr",
        "outputId": "16f8edce-223c-4b73-d778-63e8bb2a1810",
        "colab": {
          "base_uri": "https://localhost:8080/"
        }
      },
      "source": [
        "# Function to detect outliers in every feature\n",
        "def detect_outliers(dataframe):\n",
        "    cols = list(dataframe)\n",
        "    \n",
        "    for column in cols:\n",
        "        if column in dataframe.select_dtypes(include=np.number).columns:\n",
        "            q1 = dataframe[column].quantile(0.25)\n",
        "            q3 = dataframe[column].quantile(0.75)\n",
        "            iqr = q3 - q1\n",
        "            fence_low = q1 - (1.5*iqr)\n",
        "            fence_high = q3 + (1.5*iqr)\n",
        "\n",
        "            print(column + ' ---------', dataframe.loc[(dataframe[column] < fence_low) | (dataframe[column] > fence_high)].shape[0])\n",
        "\n",
        "detect_outliers(predictors)"
      ],
      "execution_count": 13,
      "outputs": [
        {
          "output_type": "stream",
          "text": [
            "Duration --------- 5484\n",
            "Net Sales --------- 5335\n",
            "Commision (in value) --------- 6394\n",
            "Age --------- 3675\n"
          ],
          "name": "stdout"
        }
      ]
    },
    {
      "cell_type": "code",
      "metadata": {
        "id": "7nx_FUncKh5v",
        "outputId": "42212f2b-4970-4fe6-b6de-709358f615c0",
        "colab": {
          "base_uri": "https://localhost:8080/"
        }
      },
      "source": [
        "# #for value in colname:\n",
        "# q1 = predictors['Duration'].quantile(0.25) #first quartile value\n",
        "# q3 = predictors['Duration'].quantile(0.75) # third quartile value\n",
        "# iqr = q3-q1 #Interquartile range\n",
        "# low  = q1-1.5*iqr #acceptable range\n",
        "# high = q3+1.5*iqr #acceptable range\n",
        "# print(low)\n",
        "# print(high)"
      ],
      "execution_count": null,
      "outputs": [
        {
          "output_type": "stream",
          "text": [
            "-60.5\n",
            "127.5\n"
          ],
          "name": "stdout"
        }
      ]
    },
    {
      "cell_type": "code",
      "metadata": {
        "id": "M9DHxW22aYpo"
      },
      "source": [
        "# Function to detect outliers in every feature\n",
        "def handle_outliers(dataframe):\n",
        "    cols = list(dataframe)\n",
        "    \n",
        "    for column in cols:\n",
        "        if column in dataframe.select_dtypes(include=np.number).columns:\n",
        "            q1 = dataframe[column].quantile(0.25)\n",
        "            q3 = dataframe[column].quantile(0.75)\n",
        "            iqr = q3 - q1\n",
        "            low = q1 - (1.5*iqr)\n",
        "            high = q3 + (1.5*iqr)\n",
        "            df_include = dataframe.loc[(dataframe[column]>= low) & (dataframe[column] <= high)] # meeting the acceptable range\n",
        "            df_exclude = dataframe.loc[(dataframe[column] < low) | (dataframe[column] > high)] #not meeting the acceptable range\n",
        "#finding the mean of the acceptable range\n",
        "            mean=int(df_include[column].mean()) \n",
        "#imputing outlier values with mean value\n",
        "            df_exclude[column]=mean\n",
        "#getting back the original shape of df\n",
        "#concatenating both dfs to get the original shape\n",
        "            df_exclude_rev=pd.concat([df_include,df_exclude]) \n",
        "            df_exclude_rev.shape           \n",
        "\n",
        "\n",
        "handle_outliers(predictors)"
      ],
      "execution_count": 14,
      "outputs": []
    },
    {
      "cell_type": "code",
      "metadata": {
        "id": "ek6vrA8UNK3X"
      },
      "source": [
        "# df_include_Duration = predictors.loc[(predictors['Duration']>= low) & \\\n",
        "#                                 (predictors['Duration'] <= high)] # meeting the acceptable range\n",
        "# df_exclude_Duration = predictors.loc[(predictors['Duration'] < low) | \\\n",
        "#                                (predictors['Duration'] > high)] #not meeting the acceptable range\n",
        "# df_include_Age = predictors.loc[(predictors['Age']>= low) & \\\n",
        "#                                 (predictors['Age'] <= high)] # meeting the acceptable range\n",
        "# df_exclude_Age = predictors.loc[(predictors['Age'] < low) | \\\n",
        "#                                (predictors['Age'] > high)] #not meeting the acceptable range"
      ],
      "execution_count": null,
      "outputs": []
    },
    {
      "cell_type": "code",
      "metadata": {
        "id": "8ewGyOYkhSPJ",
        "outputId": "ae74e637-5d1f-45ce-db6c-f155323aba43",
        "colab": {
          "base_uri": "https://localhost:8080/",
          "height": 231
        }
      },
      "source": [
        "# def remove_outliers(col):\n",
        "#     sorted(col)\n",
        "#     q1, q3 = col.quantile([0.25,0.75])\n",
        "#     iqr = q3 - q1\n",
        "#     l_range = q1 - (1.5*iqr)\n",
        "#     u_range = q3 + (1.5*iqr)\n",
        "#     col = np.where(col > u_range,mean)\n",
        "#     #col = np.where(col < l_range,mean)\n",
        "#     return col\n",
        "\n",
        "\n",
        "# predictors['Duration'] = mean(predictors['Duration'])\n",
        "# predictors['Net Sales'] = mean(predictors['Net Sales'])\n",
        "# predictors['Commision (in value)'] = mean(predictors['Commision (in value)'])\n",
        "# predictors['Age'] = mean(predictors['Age'])"
      ],
      "execution_count": null,
      "outputs": [
        {
          "output_type": "error",
          "ename": "TypeError",
          "evalue": "ignored",
          "traceback": [
            "\u001b[0;31m---------------------------------------------------------------------------\u001b[0m",
            "\u001b[0;31mTypeError\u001b[0m                                 Traceback (most recent call last)",
            "\u001b[0;32m<ipython-input-102-99df3cf02d27>\u001b[0m in \u001b[0;36m<module>\u001b[0;34m()\u001b[0m\n\u001b[1;32m     10\u001b[0m \u001b[0;34m\u001b[0m\u001b[0m\n\u001b[1;32m     11\u001b[0m \u001b[0;34m\u001b[0m\u001b[0m\n\u001b[0;32m---> 12\u001b[0;31m \u001b[0mpredictors\u001b[0m\u001b[0;34m[\u001b[0m\u001b[0;34m'Duration'\u001b[0m\u001b[0;34m]\u001b[0m \u001b[0;34m=\u001b[0m \u001b[0mmean\u001b[0m\u001b[0;34m(\u001b[0m\u001b[0mpredictors\u001b[0m\u001b[0;34m[\u001b[0m\u001b[0;34m'Duration'\u001b[0m\u001b[0;34m]\u001b[0m\u001b[0;34m)\u001b[0m\u001b[0;34m\u001b[0m\u001b[0;34m\u001b[0m\u001b[0m\n\u001b[0m\u001b[1;32m     13\u001b[0m \u001b[0mpredictors\u001b[0m\u001b[0;34m[\u001b[0m\u001b[0;34m'Net Sales'\u001b[0m\u001b[0;34m]\u001b[0m \u001b[0;34m=\u001b[0m \u001b[0mmean\u001b[0m\u001b[0;34m(\u001b[0m\u001b[0mpredictors\u001b[0m\u001b[0;34m[\u001b[0m\u001b[0;34m'Net Sales'\u001b[0m\u001b[0;34m]\u001b[0m\u001b[0;34m)\u001b[0m\u001b[0;34m\u001b[0m\u001b[0;34m\u001b[0m\u001b[0m\n\u001b[1;32m     14\u001b[0m \u001b[0mpredictors\u001b[0m\u001b[0;34m[\u001b[0m\u001b[0;34m'Commision (in value)'\u001b[0m\u001b[0;34m]\u001b[0m \u001b[0;34m=\u001b[0m \u001b[0mmean\u001b[0m\u001b[0;34m(\u001b[0m\u001b[0mpredictors\u001b[0m\u001b[0;34m[\u001b[0m\u001b[0;34m'Commision (in value)'\u001b[0m\u001b[0;34m]\u001b[0m\u001b[0;34m)\u001b[0m\u001b[0;34m\u001b[0m\u001b[0;34m\u001b[0m\u001b[0m\n",
            "\u001b[0;31mTypeError\u001b[0m: 'Series' object is not callable"
          ]
        }
      ]
    },
    {
      "cell_type": "code",
      "metadata": {
        "id": "MleKNKPFHAkY"
      },
      "source": [
        ""
      ],
      "execution_count": null,
      "outputs": []
    },
    {
      "cell_type": "code",
      "metadata": {
        "id": "suJTrcKchSPX",
        "outputId": "4a026238-c76b-477f-fcf6-576813a45226",
        "colab": {
          "base_uri": "https://localhost:8080/"
        }
      },
      "source": [
        "predictors.skew()"
      ],
      "execution_count": 15,
      "outputs": [
        {
          "output_type": "execute_result",
          "data": {
            "text/plain": [
              "Duration                15.352524\n",
              "Net Sales                2.811837\n",
              "Commision (in value)     3.535694\n",
              "Age                      2.947891\n",
              "dtype: float64"
            ]
          },
          "metadata": {
            "tags": []
          },
          "execution_count": 15
        }
      ]
    },
    {
      "cell_type": "code",
      "metadata": {
        "id": "HHABSqZohSPt",
        "outputId": "dc3bc800-9f8c-49f0-cc63-cf62af734b66",
        "colab": {
          "base_uri": "https://localhost:8080/",
          "height": 297
        }
      },
      "source": [
        "predictors.describe()"
      ],
      "execution_count": 16,
      "outputs": [
        {
          "output_type": "execute_result",
          "data": {
            "text/html": [
              "<div>\n",
              "<style scoped>\n",
              "    .dataframe tbody tr th:only-of-type {\n",
              "        vertical-align: middle;\n",
              "    }\n",
              "\n",
              "    .dataframe tbody tr th {\n",
              "        vertical-align: top;\n",
              "    }\n",
              "\n",
              "    .dataframe thead th {\n",
              "        text-align: right;\n",
              "    }\n",
              "</style>\n",
              "<table border=\"1\" class=\"dataframe\">\n",
              "  <thead>\n",
              "    <tr style=\"text-align: right;\">\n",
              "      <th></th>\n",
              "      <th>Duration</th>\n",
              "      <th>Net Sales</th>\n",
              "      <th>Commision (in value)</th>\n",
              "      <th>Age</th>\n",
              "    </tr>\n",
              "  </thead>\n",
              "  <tbody>\n",
              "    <tr>\n",
              "      <th>count</th>\n",
              "      <td>52310.000000</td>\n",
              "      <td>52310.000000</td>\n",
              "      <td>52310.000000</td>\n",
              "      <td>52310.000000</td>\n",
              "    </tr>\n",
              "    <tr>\n",
              "      <th>mean</th>\n",
              "      <td>58.256108</td>\n",
              "      <td>48.554673</td>\n",
              "      <td>12.219963</td>\n",
              "      <td>39.555725</td>\n",
              "    </tr>\n",
              "    <tr>\n",
              "      <th>std</th>\n",
              "      <td>109.138708</td>\n",
              "      <td>60.198589</td>\n",
              "      <td>22.847645</td>\n",
              "      <td>13.762473</td>\n",
              "    </tr>\n",
              "    <tr>\n",
              "      <th>min</th>\n",
              "      <td>-2.000000</td>\n",
              "      <td>-389.000000</td>\n",
              "      <td>0.000000</td>\n",
              "      <td>0.000000</td>\n",
              "    </tr>\n",
              "    <tr>\n",
              "      <th>25%</th>\n",
              "      <td>10.000000</td>\n",
              "      <td>19.800000</td>\n",
              "      <td>0.000000</td>\n",
              "      <td>33.000000</td>\n",
              "    </tr>\n",
              "    <tr>\n",
              "      <th>50%</th>\n",
              "      <td>24.000000</td>\n",
              "      <td>29.500000</td>\n",
              "      <td>0.000000</td>\n",
              "      <td>36.000000</td>\n",
              "    </tr>\n",
              "    <tr>\n",
              "      <th>75%</th>\n",
              "      <td>57.000000</td>\n",
              "      <td>55.000000</td>\n",
              "      <td>13.380000</td>\n",
              "      <td>43.000000</td>\n",
              "    </tr>\n",
              "    <tr>\n",
              "      <th>max</th>\n",
              "      <td>4881.000000</td>\n",
              "      <td>682.000000</td>\n",
              "      <td>262.760000</td>\n",
              "      <td>118.000000</td>\n",
              "    </tr>\n",
              "  </tbody>\n",
              "</table>\n",
              "</div>"
            ],
            "text/plain": [
              "           Duration     Net Sales  Commision (in value)           Age\n",
              "count  52310.000000  52310.000000          52310.000000  52310.000000\n",
              "mean      58.256108     48.554673             12.219963     39.555725\n",
              "std      109.138708     60.198589             22.847645     13.762473\n",
              "min       -2.000000   -389.000000              0.000000      0.000000\n",
              "25%       10.000000     19.800000              0.000000     33.000000\n",
              "50%       24.000000     29.500000              0.000000     36.000000\n",
              "75%       57.000000     55.000000             13.380000     43.000000\n",
              "max     4881.000000    682.000000            262.760000    118.000000"
            ]
          },
          "metadata": {
            "tags": []
          },
          "execution_count": 16
        }
      ]
    },
    {
      "cell_type": "markdown",
      "metadata": {
        "id": "Iy38mwxKhSP8"
      },
      "source": [
        "### Find Correlation between Features\n",
        "#### A correlation heatmap uses colored cells, typically in a monochromatic scale, to show a 2D correlation matrix (table) between two discrete dimensions or event types. The color value of the cells is proportional to the number of measurements that match the dimensional values.\n",
        "- Wrote a function that will plot a heatmap using seaborn to depict the pearson correlation of all the numeric features."
      ]
    },
    {
      "cell_type": "code",
      "metadata": {
        "id": "OsZsx0LzhSP_",
        "outputId": "cb9dbb21-6643-49f7-88c2-35866c213c2c",
        "colab": {
          "base_uri": "https://localhost:8080/",
          "height": 1000
        }
      },
      "source": [
        "#correlation heatmap of dataset\n",
        "def correlation_heatmap(df):\n",
        "    _ , ax = plt.subplots(figsize =(14, 20))\n",
        "    colormap = sns.diverging_palette(220, 10, as_cmap = True)\n",
        "    \n",
        "    _ = sns.heatmap(\n",
        "        df.corr(), \n",
        "        cmap = 'viridis',\n",
        "        square=True, \n",
        "        cbar_kws={'shrink':.9 }, \n",
        "        ax=ax,\n",
        "        annot=True, \n",
        "        linewidths=0.1,vmax=1.0, linecolor='white',\n",
        "        annot_kws={'fontsize':12 }\n",
        "    )\n",
        "    \n",
        "    plt.title('Pearson Correlation of Features', y=1.05, size=15)\n",
        "    \n",
        "    correlation = df.corr().unstack().sort_values(kind='quicksort')\n",
        "    print('Highly Correlated Variables')\n",
        "    return correlation[((correlation>=0.75) | (correlation<=-0.75)) & (correlation!=1)]\n",
        "\n",
        "correlation_heatmap(predictors)"
      ],
      "execution_count": 17,
      "outputs": [
        {
          "output_type": "stream",
          "text": [
            "Highly Correlated Variables\n"
          ],
          "name": "stdout"
        },
        {
          "output_type": "execute_result",
          "data": {
            "text/plain": [
              "Series([], dtype: float64)"
            ]
          },
          "metadata": {
            "tags": []
          },
          "execution_count": 17
        },
        {
          "output_type": "display_data",
          "data": {
            "image/png": "[encoded data removed]",
            "text/plain": [
              "<Figure size 1008x1440 with 2 Axes>"
            ]
          },
          "metadata": {
            "tags": [],
            "needs_background": "light"
          }
        }
      ]
    },
    {
      "cell_type": "markdown",
      "metadata": {
        "id": "3_ezZUFNhSQO"
      },
      "source": [
        "### Encoding of Categorical Columns\n",
        "#### Since our machine learning algorithm can only read numerical values, it is essential to encode categorical features into numerical values.\n",
        "- wrote a function to encode the categorical column so as to convert them to numeric."
      ]
    },
    {
      "cell_type": "code",
      "metadata": {
        "id": "ryZetPl3hSQQ"
      },
      "source": [
        "# to encode the categorical column so as to convert them to numeric.\n",
        "    \n",
        "def encode_category(df, enc, col, method):\n",
        "    \"\"\"Encodes the categorical columns of the dataframe.\n",
        "    \n",
        "    This function accepts a dataframe and columns to be encoded along with the method to be used for encoding.\n",
        "        \n",
        "    Keyword arguments:\n",
        "    df -- pandas dataframe for which we want to encode the columns -- this dataframe would be transformed\n",
        "    enc -- the encoder - fitted on the train data\n",
        "    col -- list of columns that is to be encoded\n",
        "    method -- method to be used while encoding\n",
        "    \n",
        "    Returns:\n",
        "    df1 -- the encoded dataframe\n",
        "    \"\"\"\n",
        "    if method == 'label':\n",
        "        df[col] = enc.transform(df[col].astype(str))\n",
        "        \n",
        "    elif method == 'onehot':\n",
        "        tempdf = enc.transform(df[[col]]).toarray()\n",
        "        newdf = pd.DataFrame(tempdf, columns = np.array(ohe.categories_).ravel())\n",
        "        df = pd.concat([df, newdf], axis=1)\n",
        "        df.drop(columns=[col], inplace = True)\n",
        "    \n",
        "    return df"
      ],
      "execution_count": 18,
      "outputs": []
    },
    {
      "cell_type": "code",
      "metadata": {
        "id": "rhfNfvXzhSQi"
      },
      "source": [
        "columnsToEncode = list(predictors.select_dtypes(include=['category','object']))\n",
        "le = LabelEncoder()\n",
        "for cols in columnsToEncode:\n",
        "    lb = LabelEncoder()\n",
        "    lb.fit(predictors[cols])\n",
        "    predictors = encode_category(predictors, lb, cols, 'label')"
      ],
      "execution_count": 19,
      "outputs": []
    },
    {
      "cell_type": "code",
      "metadata": {
        "id": "cExmGtgqhSQy",
        "outputId": "8ef4adae-f274-45ad-98fb-e66c7d5bbdb7",
        "colab": {
          "base_uri": "https://localhost:8080/"
        }
      },
      "source": [
        "predictors.dtypes"
      ],
      "execution_count": 20,
      "outputs": [
        {
          "output_type": "execute_result",
          "data": {
            "text/plain": [
              "Agency                    int64\n",
              "Agency Type               int64\n",
              "Distribution Channel      int64\n",
              "Product Name              int64\n",
              "Duration                  int64\n",
              "Destination               int64\n",
              "Net Sales               float64\n",
              "Commision (in value)    float64\n",
              "Age                       int64\n",
              "dtype: object"
            ]
          },
          "metadata": {
            "tags": []
          },
          "execution_count": 20
        }
      ]
    },
    {
      "cell_type": "code",
      "metadata": {
        "id": "ELDj8-PprvEj"
      },
      "source": [
        "# scaled the data\n",
        "from sklearn.preprocessing import StandardScaler\n",
        "\n",
        "predictors= predictors # feature data set\n",
        "target=target\n",
        "\n",
        "X=  StandardScaler().fit_transform(predictors)"
      ],
      "execution_count": 21,
      "outputs": []
    },
    {
      "cell_type": "code",
      "metadata": {
        "id": "5piu6w8chSRB",
        "outputId": "edf1ab19-e111-41eb-d7f3-05b498a7a789",
        "colab": {
          "base_uri": "https://localhost:8080/"
        }
      },
      "source": [
        "from sklearn.feature_selection import SelectKBest, f_classif\n",
        " \n",
        "#Remove negatives from data post label encoding\n",
        " \n",
        "X = predictors.iloc[:,0:]  #independent columns\n",
        "y = insure_df.iloc[:,-1]\n",
        "#y = predictors.iloc[:,-1]    #target column i.e price range\n",
        "#apply SelectKBest class to extract top 10 best features\n",
        "bestfeatures = SelectKBest(f_classif, k=9) #score_func=chi2,\n",
        "fit = bestfeatures.fit(X,y)\n",
        "dfscores = pd.DataFrame(fit.scores_)\n",
        "dfcolumns = pd.DataFrame(X.columns)\n",
        "#concat two dataframes for better visualization \n",
        "featureScores = pd.concat([dfcolumns,dfscores],axis=1)\n",
        "featureScores.columns = ['Specs','Score']  #naming the dataframe columns\n",
        "print(featureScores.nlargest(9,'Score'))  #print 10 best features\n"
      ],
      "execution_count": 22,
      "outputs": [
        {
          "output_type": "stream",
          "text": [
            "                  Specs        Score\n",
            "0                Agency  7013.082409\n",
            "6             Net Sales  6254.299517\n",
            "1           Agency Type  4705.984951\n",
            "7  Commision (in value)  3751.477051\n",
            "4              Duration  2215.614294\n",
            "5           Destination  1051.765815\n",
            "8                   Age   190.430736\n",
            "2  Distribution Channel     9.241340\n",
            "3          Product Name     2.712142\n"
          ],
          "name": "stdout"
        }
      ]
    },
    {
      "cell_type": "code",
      "metadata": {
        "id": "kK6HJcj6hSRe"
      },
      "source": [
        "#predictors.drop(['Distribution Channel','Product Name'],axis=1,inplace=True)"
      ],
      "execution_count": null,
      "outputs": []
    },
    {
      "cell_type": "code",
      "metadata": {
        "id": "Ewir3GQQhSRr",
        "outputId": "9646e092-0911-4854-db15-37987e3e4819",
        "colab": {
          "base_uri": "https://localhost:8080/",
          "height": 204
        }
      },
      "source": [
        "predictors.head()"
      ],
      "execution_count": 23,
      "outputs": [
        {
          "output_type": "execute_result",
          "data": {
            "text/html": [
              "<div>\n",
              "<style scoped>\n",
              "    .dataframe tbody tr th:only-of-type {\n",
              "        vertical-align: middle;\n",
              "    }\n",
              "\n",
              "    .dataframe tbody tr th {\n",
              "        vertical-align: top;\n",
              "    }\n",
              "\n",
              "    .dataframe thead th {\n",
              "        text-align: right;\n",
              "    }\n",
              "</style>\n",
              "<table border=\"1\" class=\"dataframe\">\n",
              "  <thead>\n",
              "    <tr style=\"text-align: right;\">\n",
              "      <th></th>\n",
              "      <th>Agency</th>\n",
              "      <th>Agency Type</th>\n",
              "      <th>Distribution Channel</th>\n",
              "      <th>Product Name</th>\n",
              "      <th>Duration</th>\n",
              "      <th>Destination</th>\n",
              "      <th>Net Sales</th>\n",
              "      <th>Commision (in value)</th>\n",
              "      <th>Age</th>\n",
              "    </tr>\n",
              "  </thead>\n",
              "  <tbody>\n",
              "    <tr>\n",
              "      <th>0</th>\n",
              "      <td>7</td>\n",
              "      <td>1</td>\n",
              "      <td>1</td>\n",
              "      <td>10</td>\n",
              "      <td>61</td>\n",
              "      <td>68</td>\n",
              "      <td>12.0</td>\n",
              "      <td>0.00</td>\n",
              "      <td>41</td>\n",
              "    </tr>\n",
              "    <tr>\n",
              "      <th>1</th>\n",
              "      <td>7</td>\n",
              "      <td>1</td>\n",
              "      <td>1</td>\n",
              "      <td>10</td>\n",
              "      <td>4</td>\n",
              "      <td>53</td>\n",
              "      <td>17.0</td>\n",
              "      <td>0.00</td>\n",
              "      <td>35</td>\n",
              "    </tr>\n",
              "    <tr>\n",
              "      <th>2</th>\n",
              "      <td>6</td>\n",
              "      <td>1</td>\n",
              "      <td>1</td>\n",
              "      <td>16</td>\n",
              "      <td>26</td>\n",
              "      <td>84</td>\n",
              "      <td>19.8</td>\n",
              "      <td>11.88</td>\n",
              "      <td>47</td>\n",
              "    </tr>\n",
              "    <tr>\n",
              "      <th>3</th>\n",
              "      <td>7</td>\n",
              "      <td>1</td>\n",
              "      <td>1</td>\n",
              "      <td>1</td>\n",
              "      <td>15</td>\n",
              "      <td>33</td>\n",
              "      <td>27.0</td>\n",
              "      <td>0.00</td>\n",
              "      <td>48</td>\n",
              "    </tr>\n",
              "    <tr>\n",
              "      <th>4</th>\n",
              "      <td>7</td>\n",
              "      <td>1</td>\n",
              "      <td>1</td>\n",
              "      <td>1</td>\n",
              "      <td>15</td>\n",
              "      <td>53</td>\n",
              "      <td>37.0</td>\n",
              "      <td>0.00</td>\n",
              "      <td>36</td>\n",
              "    </tr>\n",
              "  </tbody>\n",
              "</table>\n",
              "</div>"
            ],
            "text/plain": [
              "   Agency  Agency Type  ...  Commision (in value)  Age\n",
              "0       7            1  ...                  0.00   41\n",
              "1       7            1  ...                  0.00   35\n",
              "2       6            1  ...                 11.88   47\n",
              "3       7            1  ...                  0.00   48\n",
              "4       7            1  ...                  0.00   36\n",
              "\n",
              "[5 rows x 9 columns]"
            ]
          },
          "metadata": {
            "tags": []
          },
          "execution_count": 23
        }
      ]
    },
    {
      "cell_type": "markdown",
      "metadata": {
        "id": "WtYnl1NohSSM"
      },
      "source": [
        "### Baseline Model and Feature Engineering"
      ]
    },
    {
      "cell_type": "code",
      "metadata": {
        "id": "dYFkxh2JhSSO"
      },
      "source": [
        "# Split Train dataset into training and validation data\n",
        "X_train,X_test,y_train,y_test = train_test_split(predictors, target, test_size=0.2, random_state=42)"
      ],
      "execution_count": 24,
      "outputs": []
    },
    {
      "cell_type": "code",
      "metadata": {
        "id": "q9mckpFthSSb",
        "outputId": "0fa9268f-4b47-41f5-e84f-8fb460cc7e96",
        "colab": {
          "base_uri": "https://localhost:8080/"
        }
      },
      "source": [
        "# Spot Check Algorithms\n",
        "from sklearn.model_selection import StratifiedKFold\n",
        "from sklearn.model_selection import cross_val_score\n",
        "from sklearn.linear_model import LogisticRegression\n",
        "from sklearn.ensemble import AdaBoostClassifier\n",
        "from sklearn.ensemble import RandomForestClassifier\n",
        "from xgboost import XGBClassifier\n",
        "\n",
        "\n",
        "models = []\n",
        "models.append(('LR', LogisticRegression()))\n",
        "models.append(('DT', DecisionTreeClassifier()))\n",
        "models.append(('XGB', XGBClassifier()))\n",
        "models.append(('ADA', AdaBoostClassifier()))\n",
        "models.append(('RF', RandomForestClassifier()))\n",
        "# evaluate each model in turn\n",
        "results = []\n",
        "names = []\n",
        "for name, model in models:\n",
        "\tkfold = StratifiedKFold(n_splits=5, random_state=42, shuffle=True)\n",
        "\tcv_results = cross_val_score(model, X_train, y_train, cv=kfold, scoring='precision')\n",
        "\tresults.append(cv_results)\n",
        "\tnames.append(name)\n",
        "\tprint('%s: %f (%f)' % (name, cv_results.mean(), cv_results.std()))"
      ],
      "execution_count": 25,
      "outputs": [
        {
          "output_type": "stream",
          "text": [
            "LR: 0.606401 (0.010716)\n",
            "DT: 0.733042 (0.003122)\n",
            "XGB: 0.640489 (0.009556)\n",
            "ADA: 0.604951 (0.013471)\n",
            "RF: 0.835084 (0.003935)\n"
          ],
          "name": "stdout"
        }
      ]
    },
    {
      "cell_type": "markdown",
      "metadata": {
        "id": "Zt4obc0BhSSr"
      },
      "source": [
        "### Applying RandomOverSampling"
      ]
    },
    {
      "cell_type": "code",
      "metadata": {
        "id": "24ByY7GjhSSu"
      },
      "source": [
        "# Applying RandomOverSampler for dealing with class imbalance\n",
        "ros = RandomOverSampler(random_state=42)\n",
        "X_ros, y_ros =  ros.fit_sample(predictors, target)\n",
        "\n",
        "# Split Train dataset into training and testing data after applying RandomOverSampling\n",
        "X_train_ros,X_test_ros,y_train_ros,y_test_ros=train_test_split(X_ros,y_ros,test_size=0.2,random_state=42)"
      ],
      "execution_count": 26,
      "outputs": []
    },
    {
      "cell_type": "code",
      "metadata": {
        "id": "MvD9RHBahSS7",
        "outputId": "4cc7329b-f1e9-4784-e031-6e6194e6d0c0",
        "colab": {
          "base_uri": "https://localhost:8080/"
        }
      },
      "source": [
        "print(\"Before OverSampling, counts of label '1': {}\".format(sum(y_train==1)))\n",
        "print(\"Before OverSampling, counts of label '0': {} \\n\".format(sum(y_train==0)))\n",
        "\n",
        "print('After OverSampling, the shape of train_X: {}'.format(X_train_ros.shape))\n",
        "print('After OverSampling, the shape of train_y: {} \\n'.format(y_train_ros.shape))\n",
        "\n",
        "print(\"After OverSampling, counts of label '1': {}\".format(sum(y_train_ros==1)))\n",
        "print(\"After OverSampling, counts of label '0': {}\".format(sum(y_train_ros==0)))"
      ],
      "execution_count": 27,
      "outputs": [
        {
          "output_type": "stream",
          "text": [
            "Before OverSampling, counts of label '1': 6954\n",
            "Before OverSampling, counts of label '0': 34894 \n",
            "\n",
            "After OverSampling, the shape of train_X: (69744, 9)\n",
            "After OverSampling, the shape of train_y: (69744,) \n",
            "\n",
            "After OverSampling, counts of label '1': 34863\n",
            "After OverSampling, counts of label '0': 34881\n"
          ],
          "name": "stdout"
        }
      ]
    },
    {
      "cell_type": "code",
      "metadata": {
        "id": "ct7oLPxHhSTQ",
        "outputId": "104946d1-ca50-4415-a380-0bea1c14e798",
        "colab": {
          "base_uri": "https://localhost:8080/"
        }
      },
      "source": [
        "# Spot Check Algorithms\n",
        "from sklearn.model_selection import StratifiedKFold\n",
        "from sklearn.model_selection import cross_val_score\n",
        "from sklearn.linear_model import LogisticRegression\n",
        "#from sklearn.ensemble import AdaBoostClassifier\n",
        "from sklearn.ensemble import RandomForestClassifier\n",
        "#from xgboost import XGBClassifier\n",
        "\n",
        "models = []\n",
        "models.append(('LR', LogisticRegression()))\n",
        "models.append(('DT', DecisionTreeClassifier()))\n",
        "models.append(('XGB', XGBClassifier()))\n",
        "models.append(('ADA', AdaBoostClassifier()))\n",
        "models.append(('RF', RandomForestClassifier()))\n",
        "# evaluate each model in turn\n",
        "results = []\n",
        "names = []\n",
        "print(\"After applying RandomOverSampler\")\n",
        "for name, model in models:\n",
        "\tkfold = StratifiedKFold(n_splits=5, random_state=42, shuffle=True)\n",
        "\tcv_results = cross_val_score(model, X_train_ros, y_train_ros, cv=kfold, scoring='precision')\n",
        "\tresults.append(cv_results)\n",
        "\tnames.append(name)\n",
        "\tprint('%s: %f (%f)' % (name, cv_results.mean(), cv_results.std()))"
      ],
      "execution_count": 28,
      "outputs": [
        {
          "output_type": "stream",
          "text": [
            "After applying RandomOverSampler\n",
            "LR: 0.801000 (0.004308)\n",
            "DT: 0.939541 (0.005053)\n",
            "XGB: 0.809325 (0.005599)\n",
            "ADA: 0.786871 (0.007107)\n",
            "RF: 0.950942 (0.003630)\n"
          ],
          "name": "stdout"
        }
      ]
    },
    {
      "cell_type": "markdown",
      "metadata": {
        "id": "S6AXiw70hSTt"
      },
      "source": [
        "### Prediction on the test data and creating the sample submission file.\n",
        "- Load the test data and store the Id column in a separate variable.\n",
        "- Perform the same operations on the test data that you have performed on the train data.\n",
        "- Create the submission file as a csv file consisting of the Id column from the test data and your prediction as the second column."
      ]
    },
    {
      "cell_type": "code",
      "metadata": {
        "id": "uzcQEzpqhSTw"
      },
      "source": [
        "# Read the test data\n",
        "df_test = pd.read_csv('test.csv')\n",
        "\n",
        "# Storing the id from the test file\n",
        "id_ = df_test['ID']\n",
        "\n",
        "#Dropping ID column from test data\n",
        "df_test.drop('ID', axis=1, inplace= True)\n",
        "\n",
        "# # Removing outliers from the same columns from the test data and applying same transformation\n",
        "# df_test['Duration'] = remove_outliers(df_test['Duration'])\n",
        "# df_test['Net Sales'] = remove_outliers(df_test['Net Sales'])\n",
        "# df_test['Commision (in value)'] = remove_outliers(df_test['Commision (in value)'])\n",
        "# df_test['Age'] = remove_outliers(df_test['Age'])\n",
        "\n",
        "#sqrt transformation\n",
        "# transform_column(df_test, 'Duration', 'sqrt')\n",
        "# transform_column(df_test, 'Commision (in value)', 'sqrt')\n",
        "\n",
        "# Label Encoding\n",
        "columnsToEncode = list(df_test.select_dtypes(include=['category','object']))\n",
        "le = LabelEncoder()\n",
        "for cols in columnsToEncode:\n",
        "    lb = LabelEncoder()\n",
        "    lb.fit(df_test[cols])\n",
        "    df_test = encode_category(df_test, lb, cols, 'label')\n",
        "    \n",
        "#Drop columns\n",
        "#df_test.drop(['Distribution Channel','Product Name'],axis=1,inplace=True)\n",
        "\n",
        "# Applying RandomForestClassifier on test data\n",
        "model = RandomForestClassifier()\n",
        "model.fit(X_train_ros, y_train_ros)\n",
        "\n",
        "# Predict on the test data\n",
        "y_pred_test = model.predict(df_test)\n",
        "y_pred_test = y_pred_test.flatten()\n",
        "# print(classification_report(y_test_ros,y_pred_test))\n",
        "# print(model.score(y_test_ros,y_pred_test))\n",
        "\n",
        "\n",
        "# Create a sample submission file\n",
        "sample_submission = pd.DataFrame({'ID':id_,'Claim':y_pred_test})\n",
        "sample_submission.head(10)\n",
        "\n",
        "# Convert the sample submission file into a csv file\n",
        "sample_submission.to_csv('sample_submission_test29.csv',index=False)"
      ],
      "execution_count": 29,
      "outputs": []
    },
    {
      "cell_type": "code",
      "metadata": {
        "id": "S_X8egcchSVA"
      },
      "source": [
        ""
      ],
      "execution_count": null,
      "outputs": []
    }
  ]
}